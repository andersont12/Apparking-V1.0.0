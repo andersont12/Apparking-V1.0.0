{
  "cells": [
    {
      "cell_type": "markdown",
      "metadata": {
        "id": "qKlW_UQ2i5yV"
      },
      "source": [
        "## Ejercicio\n",
        "Escribir un programa que muestre por pantalla la frase `¡Hola mundo!`"
      ]
    },
    {
      "cell_type": "markdown",
      "metadata": {
        "id": "xLlCiPUii5yZ"
      },
      "source": [
        "## Solución"
      ]
    },
    {
      "cell_type": "code",
      "execution_count": 1,
      "metadata": {
        "id": "jpVcPj1gi5ya",
        "outputId": "ed84f20e-0c9d-4c79-b34e-05256244eecc",
        "colab": {
          "base_uri": "https://localhost:8080/"
        }
      },
      "outputs": [
        {
          "output_type": "stream",
          "name": "stdout",
          "text": [
            "¡Hola Mundo!\n"
          ]
        }
      ],
      "source": [
        "print(\"¡Hola Mundo!\")"
      ]
    }
  ],
  "metadata": {
    "kernelspec": {
      "display_name": "Python 3",
      "language": "python",
      "name": "python3"
    },
    "language_info": {
      "codemirror_mode": {
        "name": "ipython",
        "version": 3
      },
      "file_extension": ".py",
      "mimetype": "text/x-python",
      "name": "python",
      "nbconvert_exporter": "python",
      "pygments_lexer": "ipython3",
      "version": "3.7.1"
    },
    "colab": {
      "provenance": []
    }
  },
  "nbformat": 4,
  "nbformat_minor": 0
}